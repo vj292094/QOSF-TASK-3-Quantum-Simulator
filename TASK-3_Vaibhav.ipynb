{
 "cells": [
  {
   "cell_type": "code",
   "execution_count": 5,
   "metadata": {},
   "outputs": [],
   "source": [
    "import numpy as np\n",
    "import random\n",
    "def get_ground_state(num_qubits):\n",
    "    # return vector of size 2**num_qubits with all zeroes except first element which is 1\n",
    "    groundState = [1]\n",
    "    for i in range(2**num_qubits-1):\n",
    "        groundState.append(0)\n",
    "    return groundState\n",
    "\n",
    "def get_operator(total_qubits, gate_unitary, target_qubits):\n",
    "    # return unitary operator of size 2**n x 2**n for given gate and target qubits\n",
    "    return\n",
    "\n",
    "def run_program(initial_state, program):\n",
    "    # read program, and for each gate:\n",
    "    #   - calculate matrix operator\n",
    "    #   - multiply state with operator\n",
    "    # return final state\n",
    "    I = np.identity(2)\n",
    "    for gateTargetInfo in program:\n",
    "        gate = gateTargetInfo[\"unitary\"]\n",
    "        target = gateTargetInfo[\"target\"]\n",
    "        if len(target) == 1:\n",
    "            if target[0] == 0:\n",
    "                O = np.kron(gate, I)\n",
    "            elif target[0] == 1:\n",
    "                O = np.kron(I, gate)\n",
    "            initial_state = np.dot(initial_state, O)\n",
    "                \n",
    "        elif len(target) == 2:\n",
    "            initial_state = np.dot(initial_state, gate)\n",
    "            \n",
    "        else:\n",
    "            print(\"3 qubits are not supported.\")\n",
    "    return initial_state\n",
    "\n",
    "def measure_all(state_vector):\n",
    "    # choose element from state_vector using weighted random and return it's index\n",
    "    measuredState = random.choices(population=['00','01','10','11'], weights=[amplitude**2 for amplitude in state_vector] ,k=1)\n",
    "    return measuredState\n",
    "\n",
    "def get_counts(state_vector, num_shots):\n",
    "    # simply execute measure_all in a loop num_shots times and\n",
    "    # return object with statistics in following form:\n",
    "    #   {\n",
    "    #      element_index: number_of_ocurrences,\n",
    "    #      element_index: number_of_ocurrences,\n",
    "    #      element_index: number_of_ocurrences,\n",
    "    #      ...\n",
    "    #   }\n",
    "    # (only for elements which occoured - returned from measure_all)\n",
    "    stats = {'00':0, '01':0, '10':0, '11':0}\n",
    "    for i in range(num_shots):\n",
    "        stats[measure_all(state_vector)[0]]+=1\n",
    "    return stats"
   ]
  },
  {
   "cell_type": "code",
   "execution_count": 7,
   "metadata": {},
   "outputs": [
    {
     "name": "stdout",
     "output_type": "stream",
     "text": [
      "{'00': 477, '01': 0, '10': 0, '11': 523}\n"
     ]
    }
   ],
   "source": [
    "# Define program:\n",
    "my_circuit = [\n",
    "  { \"unitary\": [[0.70710678, 0.70710678], [0.70710678, -0.70710678]], \"target\": [0] }, \n",
    "  { \"unitary\": [ [1, 0, 0, 0], [0, 1, 0, 0], [0, 0, 0, 1], [0, 0, 1, 0] ], \"target\": [0, 1] } \n",
    "]\n",
    "\n",
    "\n",
    "# Create \"quantum computer\" with 2 qubits (this is actually just a vector :) )\n",
    "my_qpu = get_ground_state(2)\n",
    "\n",
    "# Run circuit\n",
    "final_state = run_program(my_qpu, my_circuit)\n",
    "\n",
    "# Read results\n",
    "counts = get_counts(final_state, 1000)\n",
    "print(counts)\n",
    "\n",
    "# Should print something like:\n",
    "# {\n",
    "#   \"00\": 502,\n",
    "#   \"11\": 498\n",
    "# }\n",
    "\n",
    "# Voila!"
   ]
  },
  {
   "cell_type": "code",
   "execution_count": null,
   "metadata": {},
   "outputs": [],
   "source": []
  }
 ],
 "metadata": {
  "kernelspec": {
   "display_name": "Python 3",
   "language": "python",
   "name": "python3"
  },
  "language_info": {
   "codemirror_mode": {
    "name": "ipython",
    "version": 3
   },
   "file_extension": ".py",
   "mimetype": "text/x-python",
   "name": "python",
   "nbconvert_exporter": "python",
   "pygments_lexer": "ipython3",
   "version": "3.8.5"
  }
 },
 "nbformat": 4,
 "nbformat_minor": 4
}
